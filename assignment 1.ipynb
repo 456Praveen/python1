{
 "cells": [
  {
   "cell_type": "markdown",
   "id": "25ae86c2",
   "metadata": {},
   "source": [
    "### Create a program that displays your name and complete mailing address. The address\n",
    "should be printed in the format that is normally used in the area where you live. Your\n",
    "program does not need to read any input from the user"
   ]
  },
  {
   "cell_type": "code",
   "execution_count": 1,
   "id": "6e9e9d0f",
   "metadata": {},
   "outputs": [
    {
     "name": "stdout",
     "output_type": "stream",
     "text": [
      "Praveenkumar Navi\n",
      "at post keshappanatti\n",
      "tq:gokak dist:belagavi\n",
      "karnataka\n",
      "pin-591344\n"
     ]
    }
   ],
   "source": [
    "\n",
    "print(\"Praveenkumar Navi\")\n",
    "print(\"at post keshappanatti\")\n",
    "print(\"tq:gokak dist:belagavi\")\n",
    "print(\"karnataka\")\n",
    "print(\"pin-591344\")"
   ]
  },
  {
   "cell_type": "markdown",
   "id": "fe51f317",
   "metadata": {},
   "source": [
    "###Write a program that asks the user to enter the width and length of a room. Once\n",
    "these values have been read, your program should compute and display the area of\n",
    "the room. The length and the width will be entered as floating-point numbers. Include\n",
    "units in your prompt and output message; either feet or meters, depending on which\n",
    "unit you are more comfortable working with"
   ]
  },
  {
   "cell_type": "code",
   "execution_count": 2,
   "id": "07cbe0ea",
   "metadata": {},
   "outputs": [
    {
     "name": "stdout",
     "output_type": "stream",
     "text": [
      "Enter the length of the room in feet: 10.4\n",
      "Enter the width of the room in feet: 11.4\n",
      "The area of the room is 118.56 square feet\n"
     ]
    }
   ],
   "source": [
    "length = float(input(\"Enter the length of the room in feet: \"))\n",
    "width = float(input(\"Enter the width of the room in feet: \"))\n",
    "area = length * width\n",
    "print(\"The area of the room is\", area, \"square feet\")"
   ]
  },
  {
   "cell_type": "markdown",
   "id": "554ce9d7",
   "metadata": {},
   "source": [
    "###Write a program that asks the user to enter his or her name. The program should\n",
    "respond with a message that says hello to the user, using his or her name.\n"
   ]
  },
  {
   "cell_type": "code",
   "execution_count": 4,
   "id": "0bad73c7",
   "metadata": {},
   "outputs": [
    {
     "name": "stdout",
     "output_type": "stream",
     "text": [
      "enter the name:  Praveen\n",
      "hello Mr\\Ms Praveen\n"
     ]
    }
   ],
   "source": [
    "name = input(\"enter the name:  \")\n",
    "print(\"hello Mr\\Ms\", name)"
   ]
  },
  {
   "cell_type": "markdown",
   "id": "8c3d141f",
   "metadata": {},
   "source": [
    "###Create a program that reads the length and width of a farmer’s field from the user in\n",
    "feet. Display the area of the field in acres."
   ]
  },
  {
   "cell_type": "code",
   "execution_count": 7,
   "id": "d25f86cc",
   "metadata": {},
   "outputs": [
    {
     "name": "stdout",
     "output_type": "stream",
     "text": [
      "enter the width of field in feet  1256\n",
      "enter the length in feet  3421\n",
      "area of field is  98.65397695999998 acres\n"
     ]
    }
   ],
   "source": [
    "width = float(input(\"enter the width of field in feet  \"))\n",
    "length = float(input(\"enter the length in feet  \"))\n",
    "Area = ((width*length)*2.296)/100000\n",
    "print(\"area of field is \", Area, \"acres\" )"
   ]
  },
  {
   "cell_type": "markdown",
   "id": "e99f3d08",
   "metadata": {},
   "source": [
    "###In many jurisdictions a small deposit is added to drink containers to encourage people\n",
    "to recycle them. In one particular jurisdiction, drink containers holding one liter or\n",
    "less have a $0.10 deposit, and drink containers holding more than one liter have a\n",
    "$0.25 deposit.\n",
    "Write a program that reads the number of containers of each size from the user.\n",
    "Your program should continue by computing and displaying the refund that will be\n",
    "received for returning those containers. Format the output so that it includes a dollar\n",
    "sign and two digits to the right of the decimal point"
   ]
  },
  {
   "cell_type": "code",
   "execution_count": 9,
   "id": "e62a1077",
   "metadata": {},
   "outputs": [
    {
     "name": "stdout",
     "output_type": "stream",
     "text": [
      "enter the number of bottles below or equal to one liter  12\n",
      "enter the number of bottles above one ltr  21\n",
      "refund will be   : 6.45\n"
     ]
    }
   ],
   "source": [
    "LESS_DEPOSIT = 0.10\n",
    "MORE_DEPOSIT = 0.25\n",
    "less_or_equal_to_oneltr = int(input(\"enter the number of bottles below or equal to one liter  \"))\n",
    "more_than_oneltr = int(input(\"enter the number of bottles above one ltr  \"))\n",
    "refund = (LESS_DEPOSIT*less_or_equal_to_oneltr)+(MORE_DEPOSIT*more_than_oneltr)\n",
    "print(\"refund will be   :\",refund)"
   ]
  },
  {
   "cell_type": "markdown",
   "id": "e4a714a5",
   "metadata": {},
   "source": [
    "### Write a program that reads a positive integer, n, from the user and then displays the\n",
    "sum of all of the integers from 1 to n. The sum of the first n positive integers can be\n",
    "computed using the formula:\n",
    "sum = (n)(n + 1"
   ]
  },
  {
   "cell_type": "code",
   "execution_count": 10,
   "id": "15adf844",
   "metadata": {},
   "outputs": [
    {
     "name": "stdout",
     "output_type": "stream",
     "text": [
      "enter the positive intiger number  :5\n",
      "the sum of n positive number is : 15.0\n"
     ]
    }
   ],
   "source": [
    "num = int(input(\"enter the positive intiger number  :\"))\n",
    "sum = (num*(num+1))/2\n",
    "print(\"the sum of n positive number is :\",sum)"
   ]
  },
  {
   "cell_type": "markdown",
   "id": "6b1871a9",
   "metadata": {},
   "source": [
    "###Write a program that begins by reading a radius, r, from the user. The program will\n",
    "continue by computing and displaying the area of a circle with radius r and the\n",
    "volume of a sphere with radius r. Use the pi constant in the math module in your\n",
    "calculations"
   ]
  },
  {
   "cell_type": "code",
   "execution_count": 14,
   "id": "3d47e7c5",
   "metadata": {},
   "outputs": [
    {
     "name": "stdout",
     "output_type": "stream",
     "text": [
      "enter the value of radius :15\n",
      "area of circle is :  706.5\n",
      "volome of circle is :  14130.0\n"
     ]
    }
   ],
   "source": [
    "radius =int(input(\"enter the value of radius :\"))\n",
    "area = 3.14*(radius**2)\n",
    "volume =(4/3)*3.14*(radius**3)\n",
    "print(\"area of circle is : \",area)\n",
    "print(\"volome of circle is : \", volume)"
   ]
  },
  {
   "cell_type": "markdown",
   "id": "089f6105",
   "metadata": {},
   "source": [
    "###The area of a triangle can be computed using the following formula, where b is the\n",
    "length of the base of the triangle, and h is its height:\n",
    "area = b × h\n",
    "2\n",
    "Write a program that allows the user to enter values for b and h. The program should\n",
    "then compute and display the area of a triangle with base length b and height h."
   ]
  },
  {
   "cell_type": "code",
   "execution_count": 15,
   "id": "0f739fe5",
   "metadata": {},
   "outputs": [
    {
     "name": "stdout",
     "output_type": "stream",
     "text": [
      "enter the base of triangle : 12\n",
      "enter the height of triangle ; 13\n",
      "area of triangle is :  78.0\n"
     ]
    }
   ],
   "source": [
    "base = int(input(\"enter the base of triangle : \"))\n",
    "height = int(input(\"enter the height of triangle ; \"))\n",
    "area = (base*height)/2\n",
    "print(\"area of triangle is : \",area)"
   ]
  },
  {
   "cell_type": "markdown",
   "id": "c318804a",
   "metadata": {},
   "source": [
    "###Create a program that reads two integers, a and b, from the user. Your program should\n",
    "compute and display:\n",
    "• The sum of a and b\n",
    "• The difference when b is subtracted from a\n",
    "• The product of a and b\n",
    "• The quotient when a is divided by b\n",
    "• The remainder when a is divided by b\n",
    "• The result of log10 a\n",
    "• The result of a"
   ]
  },
  {
   "cell_type": "code",
   "execution_count": 3,
   "id": "61a2c13d",
   "metadata": {},
   "outputs": [
    {
     "name": "stdout",
     "output_type": "stream",
     "text": [
      "enter a: 15\n",
      "enter b: 3\n",
      "sum f number is 18\n",
      "log of a is:  1.1760912590556813\n",
      "a/b is:  5.0\n",
      "a%b is:  0\n",
      "a*b is:  45\n"
     ]
    }
   ],
   "source": [
    "from math import log10\n",
    "a = int(input(\"enter a: \"))\n",
    "b = int(input(\"enter b: \"))\n",
    "print(\"sum f number is\", a+b)\n",
    "print(\"log of a is: \", log10(a))\n",
    "print(\"a/b is: \", a/b)\n",
    "print(\"a%b is: \", a%b)\n",
    "print(\"a*b is: \",a*b)\n"
   ]
  },
  {
   "cell_type": "markdown",
   "id": "9c3fd25c",
   "metadata": {},
   "source": [
    "###Create a program that reads three integers from the user and displays them in sorted\n",
    "order (from smallest to largest). Use the min and max functions to find the smallest\n",
    "and largest values. The middle value can be found by computing the sum of all three\n",
    "values, and then subtracting the minimum value and the maximum value."
   ]
  },
  {
   "cell_type": "code",
   "execution_count": 2,
   "id": "d4e272de",
   "metadata": {},
   "outputs": [
    {
     "name": "stdout",
     "output_type": "stream",
     "text": [
      "enter the number: 6\n",
      "enter the number: 3\n",
      "enter the number: 2\n",
      "The numbers in sorted order are:\n",
      "  2\n",
      "  3\n",
      "  6\n"
     ]
    }
   ],
   "source": [
    "a = int(input(\"enter the number: \"))\n",
    "b = int(input(\"enter the number: \"))\n",
    "c = int(input(\"enter the number: \"))\n",
    "mn = min(a, b, c)\n",
    "mx = max(a, b, c)\n",
    "md = a + b + c - mn - mx\n",
    "print(\"The numbers in sorted order are:\")\n",
    "print(\" \", mn)\n",
    "print(\" \", md)\n",
    "print(\" \", mx)"
   ]
  },
  {
   "cell_type": "code",
   "execution_count": null,
   "id": "eae4bc97",
   "metadata": {},
   "outputs": [],
   "source": []
  }
 ],
 "metadata": {
  "kernelspec": {
   "display_name": "Python 3 (ipykernel)",
   "language": "python",
   "name": "python3"
  },
  "language_info": {
   "codemirror_mode": {
    "name": "ipython",
    "version": 3
   },
   "file_extension": ".py",
   "mimetype": "text/x-python",
   "name": "python",
   "nbconvert_exporter": "python",
   "pygments_lexer": "ipython3",
   "version": "3.9.12"
  }
 },
 "nbformat": 4,
 "nbformat_minor": 5
}
