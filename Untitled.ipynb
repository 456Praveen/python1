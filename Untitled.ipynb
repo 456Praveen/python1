{
 "cells": [
  {
   "cell_type": "code",
   "execution_count": null,
   "id": "797d23f4",
   "metadata": {},
   "outputs": [],
   "source": [
    "Create a program that displays your name and complete mailing address. The address\n",
    "should be printed in the format that is normally used in the area where you live. Your\n",
    "program does not need to read any input from the user"
   ]
  },
  {
   "cell_type": "code",
   "execution_count": 1,
   "id": "b005f45b",
   "metadata": {},
   "outputs": [
    {
     "name": "stdout",
     "output_type": "stream",
     "text": [
      "Praveenkumar Navi\n",
      "at post keshappanatti\n",
      "tq:gokak dist:belagavi\n",
      "karnataka\n",
      "pin-591344\n"
     ]
    }
   ],
   "source": [
    "\n",
    "print(\"Praveenkumar Navi\")\n",
    "print(\"at post keshappanatti\")\n",
    "print(\"tq:gokak dist:belagavi\")\n",
    "print(\"karnataka\")\n",
    "print(\"pin-591344\")"
   ]
  },
  {
   "cell_type": "code",
   "execution_count": 8,
   "id": "04d18cb5",
   "metadata": {},
   "outputs": [
    {
     "name": "stdout",
     "output_type": "stream",
     "text": [
      "name:praveen age:25 salary:30000.2377\n"
     ]
    }
   ],
   "source": [
    "name =\"praveen\"\n",
    "age =25\n",
    "sal= 30000.2377\n",
    "print(\"name:{} age:{} salary:{}\".format(name,age,sal))"
   ]
  },
  {
   "cell_type": "code",
   "execution_count": null,
   "id": "a011259c",
   "metadata": {},
   "outputs": [],
   "source": []
  }
 ],
 "metadata": {
  "kernelspec": {
   "display_name": "Python 3 (ipykernel)",
   "language": "python",
   "name": "python3"
  },
  "language_info": {
   "codemirror_mode": {
    "name": "ipython",
    "version": 3
   },
   "file_extension": ".py",
   "mimetype": "text/x-python",
   "name": "python",
   "nbconvert_exporter": "python",
   "pygments_lexer": "ipython3",
   "version": "3.9.12"
  }
 },
 "nbformat": 4,
 "nbformat_minor": 5
}
