{
 "cells": [
  {
   "cell_type": "markdown",
   "id": "fdf17bf6",
   "metadata": {},
   "source": [
    "###A prime number is an integer greater than one that is only divisible by one and itself.\n",
    "Write a function that determines whether or not its parameter is prime, returning\n",
    "True if it is, and False otherwise. Write a main program that reads an integer\n",
    "from the user and displays a message indicating whether or not it is prime. Ensure\n",
    "that the main program will not run if the file containing your solution is imported\n",
    "into another program"
   ]
  },
  {
   "cell_type": "code",
   "execution_count": 13,
   "id": "4d92e79a",
   "metadata": {},
   "outputs": [
    {
     "name": "stdout",
     "output_type": "stream",
     "text": [
      "Enter an integer: 6\n",
      "6 is not prime.\n"
     ]
    }
   ],
   "source": [
    "def isPrime(n):\n",
    "    if n <= 1:\n",
    "        return False\n",
    "    for i in range(2, n):\n",
    "        if n % i == 0:\n",
    "            return False\n",
    "        else:\n",
    "            return True\n",
    "def main():\n",
    "    value = int(input(\"Enter an integer: \"))\n",
    "    if isPrime(value):\n",
    "        print(value, \"is prime.\")\n",
    "    else:\n",
    "        print(value, \"is not prime.\")\n",
    "if __name__ == \"__main__\":\n",
    "    main()"
   ]
  },
  {
   "cell_type": "markdown",
   "id": "5f0d8688",
   "metadata": {},
   "source": [
    "###Write a function that takes three numbers as parameters, and returns the median value\n",
    "of those parameters as its result. Include a main program that reads three values from\n",
    "the user and displays their median."
   ]
  },
  {
   "cell_type": "code",
   "execution_count": 17,
   "id": "b7740fd1",
   "metadata": {},
   "outputs": [
    {
     "name": "stdout",
     "output_type": "stream",
     "text": [
      "enter a: 2\n",
      "enter b: 4\n",
      "enter c: 6\n",
      "meadian of three numbers:  4.0\n"
     ]
    }
   ],
   "source": [
    "def median(a, b, c):\n",
    "    return a+b+c-min(a, b, c)-max(a, b, c)\n",
    "def main():\n",
    "    x = float(input(\"enter a: \"))\n",
    "    y = float(input(\"enter b: \"))\n",
    "    z = float(input(\"enter c: \"))\n",
    "    print(\"meadian of three numbers: \",median(x, y, z))\n",
    "main()"
   ]
  },
  {
   "cell_type": "markdown",
   "id": "410555f0",
   "metadata": {},
   "source": [
    "###Write a function that takes the lengths of the two shorter sides of a right triangle as\n",
    "its parameters. Return the hypotenuse of the triangle, computed using Pythagorean\n",
    "theorem, as the function’s result. Include a main program that reads the lengths of\n",
    "the shorter sides of a right triangle from the user, uses your function to compute the\n",
    "length of the hypotenuse, and displays the result."
   ]
  },
  {
   "cell_type": "code",
   "execution_count": 18,
   "id": "3ff6a967",
   "metadata": {},
   "outputs": [
    {
     "name": "stdout",
     "output_type": "stream",
     "text": [
      "enter a: 2\n",
      "enter b: 4\n",
      "hyportinues of sides a and b is:  4.47213595499958\n"
     ]
    }
   ],
   "source": [
    "def hyp(a, b):\n",
    "    return ((a**2)+(b**2))**0.5\n",
    "def main():\n",
    "    x = float(input(\"enter a: \"))\n",
    "    y = float(input(\"enter b: \"))\n",
    "    print(\"hyportinues of sides a and b is: \",hyp(x, y))\n",
    "main()"
   ]
  },
  {
   "cell_type": "markdown",
   "id": "5e16f552",
   "metadata": {},
   "source": [
    "###In a particular jurisdiction, taxi fares consist of a base fare of $4.00, plus $0.25\n",
    "for every 140 meters travelled. Write a function that takes the distance travelled (in\n",
    "kilometers) as its only parameter and returns the total fare as its only result. Write a\n",
    "main program that demonstrates the function."
   ]
  },
  {
   "cell_type": "code",
   "execution_count": 6,
   "id": "94db6034",
   "metadata": {},
   "outputs": [
    {
     "name": "stdout",
     "output_type": "stream",
     "text": [
      "distance travelled in km: 23\n",
      "cost of traveeling for your distance travelled is:  45.07142857142858 dollars\n"
     ]
    }
   ],
   "source": [
    "def sec(a):\n",
    "    return 4+((0.25*1000)/140)*a\n",
    "def dist_fare():\n",
    "    x = float(input(\"distance travelled in km: \"))\n",
    "    print(\"cost of traveeling for your distance travelled is: \",sec(x),\"dollars\")\n",
    "dist_fare()"
   ]
  },
  {
   "cell_type": "markdown",
   "id": "35df14ac",
   "metadata": {},
   "source": [
    "###An online retailer provides express shipping for many of its items at a rate of $10.95\n",
    "for the first item in an order, and $2.95 for each subsequent item in the same order.\n",
    "Write a function that takes the number of items in the order as its only parameter.\n",
    "Return the shipping charge for the order as the function’s result. Include a main\n",
    "program that reads the number of items purchased from the user and displays the\n",
    "shipping charge"
   ]
  },
  {
   "cell_type": "code",
   "execution_count": 9,
   "id": "45696f41",
   "metadata": {},
   "outputs": [
    {
     "name": "stdout",
     "output_type": "stream",
     "text": [
      "enter the number of items: 3\n",
      "shipping charges for the items is:  16.85\n"
     ]
    }
   ],
   "source": [
    "def ret(n):\n",
    "    if n==1:\n",
    "        return 1*10.95\n",
    "    else:\n",
    "        return 10.95+((n-1)*2.95)\n",
    "def main():\n",
    "    x = float(input(\"enter the number of items: \"))\n",
    "    print(\"shipping charges for the items is: \",ret(x))\n",
    "main()"
   ]
  },
  {
   "cell_type": "code",
   "execution_count": null,
   "id": "3eadbc2b",
   "metadata": {},
   "outputs": [],
   "source": []
  }
 ],
 "metadata": {
  "kernelspec": {
   "display_name": "Python 3 (ipykernel)",
   "language": "python",
   "name": "python3"
  },
  "language_info": {
   "codemirror_mode": {
    "name": "ipython",
    "version": 3
   },
   "file_extension": ".py",
   "mimetype": "text/x-python",
   "name": "python",
   "nbconvert_exporter": "python",
   "pygments_lexer": "ipython3",
   "version": "3.9.12"
  }
 },
 "nbformat": 4,
 "nbformat_minor": 5
}
