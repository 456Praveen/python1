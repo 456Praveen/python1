{
 "cells": [
  {
   "cell_type": "markdown",
   "id": "b0b865fe",
   "metadata": {},
   "source": [
    "###The greatest common divisor of two positive integers, n and m, is the largest number,\n",
    "d, which divides evenly into both n and m. There are several algorithms that can be\n",
    "used to solve this problem, including:\n",
    "Initialize d to the smaller of m and n.\n",
    "While d does not evenly divide m or d does not evenly divide n do\n",
    "Decrease the value of d by 1\n",
    "Report d as the greatest common divisor of n and m\n",
    "Write a program that reads two positive integers from the user and uses this algorithm\n",
    "to determine and report their greatest common divisor"
   ]
  },
  {
   "cell_type": "code",
   "execution_count": 4,
   "id": "f24731c8",
   "metadata": {},
   "outputs": [
    {
     "name": "stdout",
     "output_type": "stream",
     "text": [
      "Enter a positive integer: 5\n",
      "Enter a positive integer: 6\n",
      "The greatest common divisor of 5 and 6 is 1\n"
     ]
    }
   ],
   "source": [
    "n = int(input(\"Enter a positive integer: \"))\n",
    "m = int(input(\"Enter a positive integer: \"))\n",
    "d = min(n, m)\n",
    "while n % d != 0 or m % d != 0:\n",
    "    d=d-1\n",
    "print(\"The greatest common divisor of\", n, \"and\", m, \"is\", d)"
   ]
  },
  {
   "cell_type": "markdown",
   "id": "8b6cf16b",
   "metadata": {},
   "source": [
    "###In this exercise you will create a program that computes the average of a collection\n",
    "of values entered by the user. The user will enter 0 as a sentinel value to indicate\n",
    "that no further values will be provided. Your program should display an appropriate\n",
    "error message if the first value entered by the user is 0"
   ]
  },
  {
   "cell_type": "code",
   "execution_count": 21,
   "id": "e0408eba",
   "metadata": {},
   "outputs": [
    {
     "name": "stdout",
     "output_type": "stream",
     "text": [
      "enter the numbers :2,4\n",
      "avarage of numbers is 1.0\n",
      "avarage of numbers is 3.0\n"
     ]
    }
   ],
   "source": [
    "list_add =input(\"enter the numbers :\")\n",
    "list_add = list_add.split(',')\n",
    "list_sum = 0\n",
    "for num in list_add:\n",
    "    list_sum =list_sum + int(num)\n",
    "    avg = (list_sum)/(len(list_add))\n",
    "    print(\"avarage of numbers is\",avg)"
   ]
  },
  {
   "cell_type": "markdown",
   "id": "614a5796",
   "metadata": {},
   "source": [
    "###Write a program that displays a temperature conversion table for degrees Celsius and\n",
    "degrees Fahrenheit. The table should include rows for all temperatures between 0\n",
    "and 100 degrees Celsius that are multiples of 10 degrees Celsius. Include appropriate\n",
    "headings on your columns. The formula for converting between degrees Celsius and\n",
    "degrees Fahrenheit can be found on the Internet."
   ]
  },
  {
   "cell_type": "code",
   "execution_count": 22,
   "id": "add7d65b",
   "metadata": {},
   "outputs": [
    {
     "name": "stdout",
     "output_type": "stream",
     "text": [
      "temprature in faranheet is 32.0\n",
      "temprature in faranheet is 50.0\n",
      "temprature in faranheet is 68.0\n",
      "temprature in faranheet is 86.0\n",
      "temprature in faranheet is 104.0\n",
      "temprature in faranheet is 122.0\n",
      "temprature in faranheet is 140.0\n",
      "temprature in faranheet is 158.0\n",
      "temprature in faranheet is 176.0\n",
      "temprature in faranheet is 194.0\n",
      "temprature in faranheet is 212.0\n"
     ]
    }
   ],
   "source": [
    "for i in range(0,101,10):\n",
    "    fara = int(i)*(9/5)+32\n",
    "    print(\"temprature in faranheet is\",fara)"
   ]
  },
  {
   "cell_type": "markdown",
   "id": "a29dd830",
   "metadata": {},
   "source": [
    "###In this exercise you will create a program that displays a multiplication table that\n",
    "shows the products of all combinations of integers from 1 times 1 up to and including\n",
    "10 times 10. Your multiplication table should include a row of labels across the top\n",
    "of it containing the numbers 1 through 10. It should also include labels down the left\n",
    "side consisting of the numbers 1 through 10. The expected output from the program\n",
    "is shown below:\n",
    "1 2 3 4 5 6 7 8 9 10\n",
    "1 1 2 3 4 5 6 7 8 9 10\n",
    "2 2 4 6 8 10 12 14 16 18 20\n",
    "3 3 6 9 12 15 18 21 24 27 30\n",
    "4 4 8 12 16 20 24 28 32 36 40\n",
    "5 5 10 15 20 25 30 35 40 45 50\n",
    "6 6 12 18 24 30 36 42 48 54 60\n",
    "7 7 14 21 28 35 42 49 56 63 70\n",
    "8 8 16 24 32 40 48 56 64 72 80\n",
    "9 9 18 27 36 45 54 63 72 81 90\n",
    "10 10 20 30 40 50 60 70 80 90 100\n",
    "When completing this exercise you will probably find it helpful to be able to\n",
    "print out a value without moving down to the next line. This can be accomplished\n",
    "by added end=\"\" as the last argument to your print statement. For example,\n",
    "print(\"A\") will display the letter A and then move down to the next line. The\n",
    "statement print(\"A\", end=\"\") will display the letter A without moving down\n",
    "to the next line, causing the next print statement to display its result on the same line\n",
    "as the letter A"
   ]
  },
  {
   "cell_type": "code",
   "execution_count": 29,
   "id": "887d1cdb",
   "metadata": {},
   "outputs": [
    {
     "name": "stdout",
     "output_type": "stream",
     "text": [
      "    1\n",
      "   1   2   3   4   5   6   7   8   9  10  10\n",
      "  20\n",
      "  30\n",
      "  40\n",
      "  50\n",
      "  60\n",
      "  70\n",
      "  80\n",
      "  90\n",
      " 100\n",
      "   2\n",
      "   1   2   3   4   5   6   7   8   9  10  10\n",
      "  20\n",
      "  30\n",
      "  40\n",
      "  50\n",
      "  60\n",
      "  70\n",
      "  80\n",
      "  90\n",
      " 100\n",
      "   3\n",
      "   1   2   3   4   5   6   7   8   9  10  10\n",
      "  20\n",
      "  30\n",
      "  40\n",
      "  50\n",
      "  60\n",
      "  70\n",
      "  80\n",
      "  90\n",
      " 100\n",
      "   4\n",
      "   1   2   3   4   5   6   7   8   9  10  10\n",
      "  20\n",
      "  30\n",
      "  40\n",
      "  50\n",
      "  60\n",
      "  70\n",
      "  80\n",
      "  90\n",
      " 100\n",
      "   5\n",
      "   1   2   3   4   5   6   7   8   9  10  10\n",
      "  20\n",
      "  30\n",
      "  40\n",
      "  50\n",
      "  60\n",
      "  70\n",
      "  80\n",
      "  90\n",
      " 100\n",
      "   6\n",
      "   1   2   3   4   5   6   7   8   9  10  10\n",
      "  20\n",
      "  30\n",
      "  40\n",
      "  50\n",
      "  60\n",
      "  70\n",
      "  80\n",
      "  90\n",
      " 100\n",
      "   7\n",
      "   1   2   3   4   5   6   7   8   9  10  10\n",
      "  20\n",
      "  30\n",
      "  40\n",
      "  50\n",
      "  60\n",
      "  70\n",
      "  80\n",
      "  90\n",
      " 100\n",
      "   8\n",
      "   1   2   3   4   5   6   7   8   9  10  10\n",
      "  20\n",
      "  30\n",
      "  40\n",
      "  50\n",
      "  60\n",
      "  70\n",
      "  80\n",
      "  90\n",
      " 100\n",
      "   9\n",
      "   1   2   3   4   5   6   7   8   9  10  10\n",
      "  20\n",
      "  30\n",
      "  40\n",
      "  50\n",
      "  60\n",
      "  70\n",
      "  80\n",
      "  90\n",
      " 100\n",
      "  10\n",
      "   1   2   3   4   5   6   7   8   9  10  10\n",
      "  20\n",
      "  30\n",
      "  40\n",
      "  50\n",
      "  60\n",
      "  70\n",
      "  80\n",
      "  90\n",
      " 100\n"
     ]
    }
   ],
   "source": [
    "MIN = 1\n",
    "MAX = 10\n",
    "print(\" \", end=\"\")\n",
    "for i in range(MIN, MAX + 1):\n",
    "    print(\"%4d\" % i, end=\"\")\n",
    "    print()\n",
    "    for i in range(MIN, MAX + 1):\n",
    "        print(\"%4d\" % i, end=\"\")\n",
    "    for j in range(MIN, MAX + 1):\n",
    "        print(\"%4d\" % (i * j), end=\"\")\n",
    "        print()\n",
    "\n"
   ]
  },
  {
   "cell_type": "code",
   "execution_count": null,
   "id": "6fc27df9",
   "metadata": {},
   "outputs": [],
   "source": []
  },
  {
   "cell_type": "code",
   "execution_count": null,
   "id": "6ce474e9",
   "metadata": {},
   "outputs": [],
   "source": []
  },
  {
   "cell_type": "code",
   "execution_count": null,
   "id": "a4d440bf",
   "metadata": {},
   "outputs": [],
   "source": []
  }
 ],
 "metadata": {
  "kernelspec": {
   "display_name": "Python 3 (ipykernel)",
   "language": "python",
   "name": "python3"
  },
  "language_info": {
   "codemirror_mode": {
    "name": "ipython",
    "version": 3
   },
   "file_extension": ".py",
   "mimetype": "text/x-python",
   "name": "python",
   "nbconvert_exporter": "python",
   "pygments_lexer": "ipython3",
   "version": "3.9.12"
  }
 },
 "nbformat": 4,
 "nbformat_minor": 5
}
