{
 "cells": [
  {
   "cell_type": "markdown",
   "id": "bddb1036",
   "metadata": {},
   "source": [
    "###In the game of Scrabble™, each letter has points associated with it. The total score\n",
    "of a word is the sum of the scores of its letters. More common letters are worth fewer\n",
    "points while less common letters are worth more points. The points associated with\n",
    "each letter are shown below:\n",
    "Points Letters\n",
    "1 A, E, I, L, N, O, R, S, T and U\n",
    "2 D and G\n",
    "3 B, C, M and P\n",
    "4 F, H, V, W and Y\n",
    "5 K\n",
    "8 J and X\n",
    "10 Q and Z\n",
    "Write a program that computes and displays the Scrabble™ score for a word.\n",
    "Create a dictionary that maps from letters to point values. Then use the dictionary to\n",
    "compute the score"
   ]
  },
  {
   "cell_type": "code",
   "execution_count": 2,
   "id": "26c6c1b8",
   "metadata": {},
   "outputs": [
    {
     "name": "stdout",
     "output_type": "stream",
     "text": [
      "Enter a word: praveen\n",
      "praveen is worth 12 points.\n"
     ]
    }
   ],
   "source": [
    "points = {\"A\": 1, \"B\": 3, \"C\": 3, \"D\": 2, \"E\": 1, \"F\": 4, \\\n",
    "\"G\": 2, \"H\": 4, \"I\": 1, \"J\": 2, \"K\": 5, \"L\": 1, \\\n",
    "\"M\": 3, \"N\": 1, \"O\": 1, \"P\": 3, \"Q\": 10, \"R\": 1, \\\n",
    "\"S\": 1, \"T\": 1, \"U\": 1, \"V\": 4, \"W\": 4, \"X\": 8,\n",
    "\"Y\": 4, \"Z\": 10}\n",
    "word = input(\"Enter a word: \")\n",
    "uppercase = word.upper()\n",
    "score = 0\n",
    "for ch in uppercase:\n",
    "    score = score + points[ch]\n",
    "print(word, \"is worth\", score, \"points.\")"
   ]
  },
  {
   "cell_type": "markdown",
   "id": "9fa99197",
   "metadata": {},
   "source": [
    "###Create a program that sums all of the numbers entered by the user while ignoring\n",
    "any input that is not a valid number. Your program should display the current sum\n",
    "after each number is entered. It should display an appropriate message after each\n",
    "non-numeric input, and then continue to sum any additional numbers entered by the\n",
    "user. Exit the program when the user enters a blank line. Ensure that your program\n",
    "works correctly for both integers and floating-point number"
   ]
  },
  {
   "cell_type": "code",
   "execution_count": 1,
   "id": "2b78e0cb",
   "metadata": {},
   "outputs": [
    {
     "name": "stdout",
     "output_type": "stream",
     "text": [
      "Enter a number: 2345\n",
      "The total is now 2345.0\n",
      "Enter a number: 2\n",
      "The total is now 2347.0\n",
      "Enter a number: 3\n",
      "The total is now 2350.0\n",
      "Enter a number: 2\n",
      "The total is now 2352.0\n",
      "Enter a number: \n",
      "The grand total is 2352.0\n"
     ]
    }
   ],
   "source": [
    "line = input(\"Enter a number: \")\n",
    "total = 0\n",
    "while line != \"\":\n",
    "    try:\n",
    "        num = float(line)\n",
    "        total = total + num\n",
    "        print(\"The total is now\", total)\n",
    "    except ValueError:\n",
    "        print(\"That wasn’t a number.\")\n",
    "    line = input(\"Enter a number: \")\n",
    "print(\"The grand total is\", total)"
   ]
  },
  {
   "cell_type": "markdown",
   "id": "d2fbeed0",
   "metadata": {},
   "source": [
    "###Create a program that determines and displays the number of unique characters in a\n",
    "string entered by the user. For example, Hello, World! has 10 unique characters\n",
    "whilezzzhas only one unique character. Use a dictionary or set to solve this problem."
   ]
  },
  {
   "cell_type": "code",
   "execution_count": 2,
   "id": "7e61a677",
   "metadata": {},
   "outputs": [
    {
     "name": "stdout",
     "output_type": "stream",
     "text": [
      "Enter a string: praveen\n",
      "That string contained 6 unique character(s).\n"
     ]
    }
   ],
   "source": [
    "s = input(\"Enter a string: \")\n",
    "characters = {}\n",
    "for ch in s:\n",
    "    characters[ch] = True\n",
    "print(\"That string contained\", len(characters), \\\n",
    "\"unique character(s).\")"
   ]
  },
  {
   "cell_type": "markdown",
   "id": "14db6875",
   "metadata": {},
   "source": [
    "###Two words are anagrams if they contain all of the same letters, but in a different\n",
    "order. For example, “evil” and “live” are anagrams because each contains one “e”,\n",
    "one “i”, one “l”, and one “v”. Create a program that reads two strings from the user,\n",
    "determines whether or not they are anagrams, and reports the result"
   ]
  },
  {
   "cell_type": "code",
   "execution_count": 6,
   "id": "03c8cfa7",
   "metadata": {},
   "outputs": [
    {
     "name": "stdout",
     "output_type": "stream",
     "text": [
      "Enter the first string: praveen\n",
      "Enter the second string: raveenp\n",
      "Those strings are anagrams.\n"
     ]
    }
   ],
   "source": [
    "def characterCounts(s):\n",
    "    counts = {}\n",
    "    for ch in s:\n",
    "        if ch in counts:\n",
    "            counts[ch] = counts[ch] + 1\n",
    "        else:\n",
    "            counts[ch] = 1\n",
    "    return counts\n",
    "def main():\n",
    "    s1 = input(\"Enter the first string: \")\n",
    "    s2 = input(\"Enter the second string: \")\n",
    "    counts1 = characterCounts(s1)\n",
    "    counts2 = characterCounts(s2)\n",
    "    if counts1 == counts2:\n",
    "        print(\"Those strings are anagrams.\")\n",
    "    else:\n",
    "        print(\"Those strings are not anagrams.\")\n",
    "main()"
   ]
  },
  {
   "cell_type": "code",
   "execution_count": null,
   "id": "3656d18b",
   "metadata": {},
   "outputs": [],
   "source": []
  }
 ],
 "metadata": {
  "kernelspec": {
   "display_name": "Python 3 (ipykernel)",
   "language": "python",
   "name": "python3"
  },
  "language_info": {
   "codemirror_mode": {
    "name": "ipython",
    "version": 3
   },
   "file_extension": ".py",
   "mimetype": "text/x-python",
   "name": "python",
   "nbconvert_exporter": "python",
   "pygments_lexer": "ipython3",
   "version": "3.9.12"
  }
 },
 "nbformat": 4,
 "nbformat_minor": 5
}
