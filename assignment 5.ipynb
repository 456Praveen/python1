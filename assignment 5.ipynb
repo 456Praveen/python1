{
 "cells": [
  {
   "cell_type": "markdown",
   "id": "1ee7fcc7",
   "metadata": {},
   "source": [
    "###Write a program that reads integers from the user and stores them in a list. Your\n",
    "program should continue reading values until the user enters 0. Then it should display\n",
    "all of the values entered by the user (except for the 0) in ascending order, with one\n",
    "value appearing on each line. Use either the sort method or the sorted function\n",
    "to sort the list."
   ]
  },
  {
   "cell_type": "code",
   "execution_count": 4,
   "id": "80d218e3",
   "metadata": {},
   "outputs": [
    {
     "name": "stdout",
     "output_type": "stream",
     "text": [
      "Enter an integer (0 to quit): 3\n",
      "Enter an integer (0 to quit): 3\n",
      "Enter an integer (0 to quit): 2\n",
      "Enter an integer (0 to quit): 6\n",
      "Enter an integer (0 to quit): 0\n",
      "The values, sorted into ascending order, are:\n",
      "2\n",
      "3\n",
      "3\n",
      "6\n"
     ]
    }
   ],
   "source": [
    "data = []\n",
    "num = int(input(\"Enter an integer (0 to quit): \"))\n",
    "while num != 0:\n",
    "    data.append(num)\n",
    "    num = int(input(\"Enter an integer (0 to quit): \"))\n",
    "data.sort()\n",
    "print(\"The values, sorted into ascending order, are:\")\n",
    "for num in data:\n",
    "    print(num)"
   ]
  },
  {
   "cell_type": "markdown",
   "id": "1cf8a06b",
   "metadata": {},
   "source": [
    "###Create a program that reads integers from the user until a blank line is entered. Once\n",
    "all of the integers have been read your program should display all of the negative\n",
    "numbers, followed by all of the zeros, followed by all of the positive numbers. Within\n",
    "each group the numbers should be displayed in the same order that they were entered\n",
    "by the user. For example, if the user enters the values 3, -4, 1, 0, -1, 0, and -2 then\n",
    "your program should output the values -4, -1, -2, 0, 0, 3, and 1. Your program\n",
    "should display each value on its own line."
   ]
  },
  {
   "cell_type": "code",
   "execution_count": 2,
   "id": "e4d3e33d",
   "metadata": {},
   "outputs": [
    {
     "name": "stdout",
     "output_type": "stream",
     "text": [
      "Enter an integer (blank to quit): 3\n",
      "Enter an integer (blank to quit): 4\n",
      "Enter an integer (blank to quit): 1\n",
      "Enter an integer (blank to quit): -2\n",
      "Enter an integer (blank to quit): -4\n",
      "Enter an integer (blank to quit): -60\n",
      "Enter an integer (blank to quit): 0\n",
      "Enter an integer (blank to quit): 0\n",
      "Enter an integer (blank to quit): \n",
      "The numbers were: \n",
      "-2\n",
      "-4\n",
      "-60\n",
      "0\n",
      "0\n",
      "3\n",
      "4\n",
      "1\n"
     ]
    }
   ],
   "source": [
    "negatives = []\n",
    "zeros = []\n",
    "positives = []\n",
    "line = input(\"Enter an integer (blank to quit): \")\n",
    "while line != \"\":\n",
    "    num = int(line)\n",
    "    if num < 0:\n",
    "        negatives.append(num)\n",
    "    elif num > 0:\n",
    "        positives.append(num)\n",
    "    else:\n",
    "        zeros.append(num)\n",
    "    line = input(\"Enter an integer (blank to quit): \")\n",
    "print(\"The numbers were: \")\n",
    "for n in negatives:\n",
    "    print(n)\n",
    "for n in zeros:\n",
    "    print(n)\n",
    "for n in positives:\n",
    "    print(n)"
   ]
  },
  {
   "cell_type": "markdown",
   "id": "c71f9738",
   "metadata": {},
   "source": [
    "###In this exercise, you will create a program that reads words from the user until the\n",
    "user enters a blank line. After the user enters a blank line your program should dis\u0002play each word entered by the user exactly once. The words should be displayed in\n",
    "the same order that they were first entered. For example, if the user enters:\n",
    "first\n",
    "second\n",
    "first\n",
    "third\n",
    "second\n",
    "then your program should display:\n",
    "first\n",
    "second\n",
    "third"
   ]
  },
  {
   "cell_type": "code",
   "execution_count": 6,
   "id": "1752df70",
   "metadata": {},
   "outputs": [
    {
     "name": "stdout",
     "output_type": "stream",
     "text": [
      "Enter a word (blank line to quit): praveen\n",
      "Enter a word (blank line to quit): arun\n",
      "Enter a word (blank line to quit): praveen\n",
      "Enter a word (blank line to quit): arun\n",
      "Enter a word (blank line to quit): seema\n",
      "Enter a word (blank line to quit): rahul\n",
      "Enter a word (blank line to quit): \n",
      "praveen\n",
      "arun\n",
      "seema\n",
      "rahul\n"
     ]
    }
   ],
   "source": [
    "words = []\n",
    "word = input(\"Enter a word (blank line to quit): \")\n",
    "while word != \"\":\n",
    "    if word not in words:\n",
    "        words.append(word)\n",
    "    word = input(\"Enter a word (blank line to quit): \")\n",
    "for word in words:\n",
    "    print(word)"
   ]
  },
  {
   "cell_type": "markdown",
   "id": "147b09a7",
   "metadata": {},
   "source": [
    "###An integer, n, is said to be perfect when the sum of all of the proper divisors of n is\n",
    "equal to n. For example, 28 is a perfect number because its proper divisors are 1, 2,\n",
    "4, 7 and 14, and 1 + 2 + 4 + 7 + 14 = 28.\n",
    "Write a function that determines whether or not a positive integer is perfect. Your\n",
    "function will take one parameter. If that parameter is a perfect number then your\n",
    "function will return True. Otherwise it will return False. In addition, write a main\n",
    "program that uses your function to identify and display all of the perfect numbers\n",
    "between 1 and 10,000. Import your solution to Exercise 115 when completing this\n",
    "task"
   ]
  },
  {
   "cell_type": "code",
   "execution_count": 1,
   "id": "84b608bf",
   "metadata": {},
   "outputs": [
    {
     "ename": "ImportError",
     "evalue": "cannot import name 'properDivisors' from 'math' (unknown location)",
     "output_type": "error",
     "traceback": [
      "\u001b[1;31m---------------------------------------------------------------------------\u001b[0m",
      "\u001b[1;31mImportError\u001b[0m                               Traceback (most recent call last)",
      "Input \u001b[1;32mIn [1]\u001b[0m, in \u001b[0;36m<cell line: 1>\u001b[1;34m()\u001b[0m\n\u001b[1;32m----> 1\u001b[0m \u001b[38;5;28;01mfrom\u001b[39;00m \u001b[38;5;21;01mmath\u001b[39;00m \u001b[38;5;28;01mimport\u001b[39;00m properDivisors\n\u001b[0;32m      2\u001b[0m LIMIT \u001b[38;5;241m=\u001b[39m \u001b[38;5;241m10000\u001b[39m\n\u001b[0;32m      3\u001b[0m \u001b[38;5;28;01mdef\u001b[39;00m \u001b[38;5;21misPerfect\u001b[39m(n):\n",
      "\u001b[1;31mImportError\u001b[0m: cannot import name 'properDivisors' from 'math' (unknown location)"
     ]
    }
   ],
   "source": [
    "from proper_divisors import properDivisors\n",
    "LIMIT = 10000\n",
    "def isPerfect(n):\n",
    "    divisors = properDivisors(n)\n",
    "    total = 0\n",
    "    for d in divisors:\n",
    "        total = total + d\n",
    "    if total == n:\n",
    "        return True\n",
    "    return False\n",
    "def main():\n",
    "    print(\"The perfect numbers between 1 and\", LIMIT, \"are:\")\n",
    "    for i in range(1, LIMIT + 1):\n",
    "        if isPerfect(i):\n",
    "            print(\" \", i)\n",
    "main()"
   ]
  },
  {
   "cell_type": "code",
   "execution_count": null,
   "id": "e036d1c7",
   "metadata": {},
   "outputs": [],
   "source": []
  },
  {
   "cell_type": "code",
   "execution_count": null,
   "id": "939b0d3f",
   "metadata": {},
   "outputs": [],
   "source": []
  },
  {
   "cell_type": "code",
   "execution_count": null,
   "id": "112544b4",
   "metadata": {},
   "outputs": [],
   "source": []
  }
 ],
 "metadata": {
  "kernelspec": {
   "display_name": "Python 3 (ipykernel)",
   "language": "python",
   "name": "python3"
  },
  "language_info": {
   "codemirror_mode": {
    "name": "ipython",
    "version": 3
   },
   "file_extension": ".py",
   "mimetype": "text/x-python",
   "name": "python",
   "nbconvert_exporter": "python",
   "pygments_lexer": "ipython3",
   "version": "3.9.12"
  }
 },
 "nbformat": 4,
 "nbformat_minor": 5
}
