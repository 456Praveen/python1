{
 "cells": [
  {
   "cell_type": "markdown",
   "id": "0d547a50",
   "metadata": {},
   "source": [
    "###Write a program that reads an integer from the user. Then your program should\n",
    "display a message indicating whether the integer is even or odd"
   ]
  },
  {
   "cell_type": "code",
   "execution_count": 7,
   "id": "69b109a1",
   "metadata": {},
   "outputs": [
    {
     "name": "stdout",
     "output_type": "stream",
     "text": [
      "enter a number: 8\n",
      "the number is even number\n"
     ]
    }
   ],
   "source": [
    "x =int(input(\"enter a number: \"))\n",
    "if x%2 == 0:\n",
    "    print(\"the number is even number\")\n",
    "else:\n",
    "    print(\"the number is odd\")"
   ]
  },
  {
   "cell_type": "markdown",
   "id": "b5f150a9",
   "metadata": {},
   "source": [
    "###In this exercise you will create a program that reads a letter of the alphabet from the\n",
    "user. If the user enters a, e, i, o or u then your program should display a message\n",
    "indicating that the entered letter is a vowel. If the user enters y then your program\n",
    "should display a message indicating that sometimes y is a vowel, and sometimes y is\n",
    "a consonant. Otherwise your program should display a message indicating that the\n",
    "letter is a consonant."
   ]
  },
  {
   "cell_type": "code",
   "execution_count": 10,
   "id": "859d6045",
   "metadata": {},
   "outputs": [
    {
     "name": "stdout",
     "output_type": "stream",
     "text": [
      "Enter a letter: y\n",
      "Sometimes it’s a vowel... Sometimes it’s a consonant.\n"
     ]
    }
   ],
   "source": [
    "letter = input(\"Enter a letter: \")\n",
    "if letter == \"a\" or letter == \"e\" or \\\n",
    "letter == \"i\" or letter == \"o\" or \\\n",
    "letter == \"u\":\n",
    "    print(\"It’s a vowel.\")\n",
    "elif letter == \"y\":\n",
    "    print(\"Sometimes it’s a vowel... Sometimes it’s a consonant.\")\n",
    "else:\n",
    "    print(\"It’s a consonant.\")"
   ]
  },
  {
   "cell_type": "markdown",
   "id": "9ed62879",
   "metadata": {},
   "source": [
    "###The following table lists the sound level in decibels for several common noises.\n",
    "Noise Decibel Level\n",
    "Jackhammer 130 dB\n",
    "Gas Lawnmower 106 dB\n",
    "Alarm Clock 70 dB\n",
    "Quiet Room 40 dB\n",
    "Write a program that reads a sound level in decibels from the user. If the user\n",
    "enters a decibel level that matches one of the noises in the table then your program\n",
    "should display a message containing only that noise. If the user enters a number\n",
    "of decibels between the noises listed then your program should display a message\n",
    "indicating which noises the value is between. Ensure that your program also generates\n",
    "reasonable output for a value smaller than the quietest noise in the table, and for a\n",
    "value larger than the loudest noise in the table"
   ]
  },
  {
   "cell_type": "code",
   "execution_count": 25,
   "id": "1863268a",
   "metadata": {},
   "outputs": [
    {
     "name": "stdout",
     "output_type": "stream",
     "text": [
      "enter the value for noice :87\n",
      "voice is in between alaram and gasvoice\n"
     ]
    }
   ],
   "source": [
    "noice_value = int(input(\"enter the value for noice :\"))\n",
    "if noice_value == 130:\n",
    "    print(\"it is the voice of hammer\")\n",
    "elif noice_value<130 and noice_value>106:\n",
    "    print(\"voice is in between gasvoice and hammer\")\n",
    "elif noice_value == 106:\n",
    "    print(\"it is gas voice\")\n",
    "elif noice_value<106 and noice_value>70:\n",
    "    print(\"voice is in between alaram and gasvoice\")\n",
    "elif noice_value ==70:\n",
    "    print(\"it is alaram voice\")\n",
    "else:\n",
    "    print(\"voice not recognised\")"
   ]
  },
  {
   "cell_type": "markdown",
   "id": "ea08454b",
   "metadata": {},
   "source": [
    "###The length of a month varies from 28 to 31 days. In this exercise you will create\n",
    "a program that reads the name of a month from the user as a string. Then your\n",
    "program should display the number of days in that month. Display “28 or 29 days”\n",
    "for February so that leap years are addressed"
   ]
  },
  {
   "cell_type": "code",
   "execution_count": 30,
   "id": "cc2ba3e4",
   "metadata": {},
   "outputs": [
    {
     "name": "stdout",
     "output_type": "stream",
     "text": [
      "Enter the name of a month: June\n",
      "June has 30 days in it.\n"
     ]
    }
   ],
   "source": [
    "month = input(\"Enter the name of a month: \")\n",
    "days = 31\n",
    "if month == \"April\" or month == \"June\" or \\\n",
    "month == \"September\" or month == \"November\":\n",
    "    days = 30\n",
    "elif month == \"February\":\n",
    "    days = \"28 or 29\"\n",
    "print(month, \"has\", days, \"days in it.\")\n"
   ]
  },
  {
   "cell_type": "markdown",
   "id": "ac0f19fa",
   "metadata": {},
   "source": [
    "###A triangle can be classified based on the lengths of its sides as equilateral, isosceles or\n",
    "scalene. All three sides of an equilateral triangle have the same length. An isosceles\n",
    "triangle has two sides that are the same length, and a third side that is a different\n",
    "length. If all of the sides have different lengths then the triangle is scalene.\n",
    "Write a program that reads the lengths of the three sides of a triangle from the\n",
    "user. Then display a message that states the triangle’s type."
   ]
  },
  {
   "cell_type": "code",
   "execution_count": 32,
   "id": "2c3247e1",
   "metadata": {},
   "outputs": [
    {
     "name": "stdout",
     "output_type": "stream",
     "text": [
      "Enter the length of side 1: 12\n",
      "Enter the length of side 2: 12\n",
      "Enter the length of side 3: 22\n",
      "That’s a isosceles triangle\n"
     ]
    }
   ],
   "source": [
    "side1 = float(input(\"Enter the length of side 1: \"))\n",
    "side2 = float(input(\"Enter the length of side 2: \"))\n",
    "side3 = float(input(\"Enter the length of side 3: \"))\n",
    "if side1 == side2 and side2 == side3:\n",
    "    tri_type = \"equilateral\"\n",
    "elif side1 == side2 or side2 == side3 or \\\n",
    "side3 == side1:\n",
    "    tri_type = \"isosceles\"\n",
    "else:\n",
    "    tri_type = \"scalene\"\n",
    "print(\"That’s a\", tri_type, \"triangle\")"
   ]
  },
  {
   "cell_type": "markdown",
   "id": "7fc29e42",
   "metadata": {},
   "source": [
    "###The year is divided into four seasons: spring, summer, fall (or autumn) and winter.\n",
    "While the exact dates that the seasons change vary a little bit from year to year\n",
    "because of the way that the calendar is constructed, we will use the following dates\n",
    "for this exercise:\n",
    "Season First Day\n",
    "Spring March 20\n",
    "Summer June 21\n",
    "Fall September 22\n",
    "Winter December 21\n",
    "Create a program that reads a month and day from the user. The user will\n",
    "enter the name of the month as a string, followed by the day within the month as an\n",
    "integer. Then your program should display the season associated with the date that\n",
    "was entered"
   ]
  },
  {
   "cell_type": "code",
   "execution_count": 34,
   "id": "0538ddf3",
   "metadata": {},
   "outputs": [
    {
     "name": "stdout",
     "output_type": "stream",
     "text": [
      "Enter the name of the month: December\n",
      "Enter the day number: 20\n",
      "December 20 is in Fall\n"
     ]
    }
   ],
   "source": [
    "month = input(\"Enter the name of the month: \")\n",
    "day = int(input(\"Enter the day number: \"))\n",
    "if month == \"January\" or month == \"February\":\n",
    "    season = \"Winter\"\n",
    "elif month == \"March\":\n",
    "    if day < 20:\n",
    "        season = \"Winter\"\n",
    "    else:\n",
    "        season = \"Spring\"\n",
    "elif month == \"April\" or month == \"May\":\n",
    "    season = \"Spring\"\n",
    "elif month == \"June\":\n",
    "    if day < 21:\n",
    "        season = \"Spring\"\n",
    "    else:\n",
    "        season = \"Summer\"\n",
    "elif month == \"July\" or month == \"August\":\n",
    "    season = \"Summer\"\n",
    "elif month == \"September\":\n",
    "    if day < 22:\n",
    "        season = \"Summer\"\n",
    "    else:\n",
    "        season = \"Fall\"\n",
    "elif month == \"October\" or month == \"November\":\n",
    "    season = \"Fall\"\n",
    "elif month == \"December\":\n",
    "    if day < 21:\n",
    "        season = \"Fall\"\n",
    "else:\n",
    "    season = \"Winter\"\n",
    "print(month, day, \"is in\", season)"
   ]
  },
  {
   "cell_type": "markdown",
   "id": "eed9dbbc",
   "metadata": {},
   "source": [
    "###The following table contains earthquake magnitude ranges on the Richter scale and\n",
    "their descriptors:\n",
    "Magnitude Descriptor\n",
    "Less than 2.0 Micro\n",
    "2.0 to less than 3.0 Very Minor\n",
    "3.0 to less than 4.0 Minor\n",
    "4.0 to less than 5.0 Light\n",
    "5.0 to less than 6.0 Moderate\n",
    "6.0 to less than 7.0 Strong\n",
    "7.0 to less than 8.0 Major\n",
    "8.0 to less than 10.0 Great\n",
    "10.0 or more Meteoric\n",
    "Write a program that reads a magnitude from the user and displays the appropriate\n",
    "descriptor as part of a meaningful message. For example, if the user enters 5.5 then\n",
    "2.7 Exercises 37\n",
    "your program should indicate that a magnitude 5.5 earthquake is considered to be a\n",
    "moderate earthquake."
   ]
  },
  {
   "cell_type": "code",
   "execution_count": 37,
   "id": "a7a4eb7b",
   "metadata": {},
   "outputs": [
    {
     "name": "stdout",
     "output_type": "stream",
     "text": [
      "enter the magnitude of earthquake in richters :2.1\n",
      "very minor earthquake\n"
     ]
    }
   ],
   "source": [
    "eq_mag = float(input(\"enter the magnitude of earthquake in richters :\"))\n",
    "if eq_mag<2:\n",
    "    print(\"micro earthquake\")\n",
    "elif eq_mag<3 and eq_mag>2:\n",
    "    print(\"very minor earthquake\")\n",
    "elif eq_mag<4 and eq_mag>3:\n",
    "    print(\"minor earth quake\")\n",
    "elif eq_mag<5 and eq_mag>4:\n",
    "    print(\"light eart quake\")\n",
    "elif eq_mag<10 and eq_mag>5:\n",
    "    print(\"strong earthquake\")\n",
    "else:\n",
    "    print(\"more metoroc earthquake\")"
   ]
  },
  {
   "cell_type": "markdown",
   "id": "bb5a78a3",
   "metadata": {},
   "source": [
    "###Write a program that determines the name of a shape from its number of sides. Read\n",
    "the number of sides from the user and then report the appropriate name as part of\n",
    "a meaningful message. Your program should support shapes with anywhere from 3\n",
    "up to (and including) 10 sides. If a number of sides outside of this range is entered\n",
    "then your program should display an appropriate error message."
   ]
  },
  {
   "cell_type": "code",
   "execution_count": 39,
   "id": "e8939d2b",
   "metadata": {},
   "outputs": [
    {
     "name": "stdout",
     "output_type": "stream",
     "text": [
      "Enter the number of sides: 10\n",
      "That’s a decagon\n"
     ]
    }
   ],
   "source": [
    "nsides = int(input(\"Enter the number of sides: \"))\n",
    "name = \"\"\n",
    "if nsides == 3:\n",
    "    name = \"triangle\"\n",
    "elif nsides == 4:\n",
    "    name = \"quadrilateral\"\n",
    "elif nsides == 5:\n",
    "    name = \"pentagon\"\n",
    "elif nsides == 6:\n",
    "    name = \"hexagon\"\n",
    "elif nsides == 7:\n",
    "    name = \"heptagon\"\n",
    "elif nsides == 8:\n",
    "    name = \"octagon\"\n",
    "elif nsides == 9:\n",
    "    name = \"nonagon\"\n",
    "elif nsides == 10:\n",
    "    name = \"decagon\"\n",
    "if name == \"\":\n",
    "    print(\"That number of sides is not supported by this program.\")\n",
    "else:\n",
    "    print(\"That’s a\", name)"
   ]
  },
  {
   "cell_type": "code",
   "execution_count": null,
   "id": "c6dc4da7",
   "metadata": {},
   "outputs": [],
   "source": []
  }
 ],
 "metadata": {
  "kernelspec": {
   "display_name": "Python 3 (ipykernel)",
   "language": "python",
   "name": "python3"
  },
  "language_info": {
   "codemirror_mode": {
    "name": "ipython",
    "version": 3
   },
   "file_extension": ".py",
   "mimetype": "text/x-python",
   "name": "python",
   "nbconvert_exporter": "python",
   "pygments_lexer": "ipython3",
   "version": "3.9.12"
  }
 },
 "nbformat": 4,
 "nbformat_minor": 5
}
